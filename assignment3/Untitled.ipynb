{
 "cells": [
  {
   "cell_type": "code",
   "execution_count": 57,
   "metadata": {},
   "outputs": [],
   "source": [
    "data=[([[1,9], [2,9], [3,8], [4,8]], [1, 1, 4, 4])]\n",
    "start=[5,8] \n",
    "end=[6,8]\n",
    "window_size=1"
   ]
  },
  {
   "cell_type": "code",
   "execution_count": 72,
   "metadata": {},
   "outputs": [
    {
     "data": {
      "text/plain": [
       "[[[5, 8], [1, 9], [2, 9], [3, 8], [4, 8], [6, 8]]]"
      ]
     },
     "execution_count": 72,
     "metadata": {},
     "output_type": "execute_result"
    }
   ],
   "source": [
    "form_data = [[start]*window_size+i[0]+[end]*window_size for i in data]\n",
    "form_data"
   ]
  },
  {
   "cell_type": "code",
   "execution_count": 93,
   "metadata": {},
   "outputs": [
    {
     "name": "stdout",
     "output_type": "stream",
     "text": [
      "1\n",
      "([5, 8, 1, 9, 2, 9], 1)\n",
      "2\n",
      "([1, 9, 2, 9, 3, 8], 1)\n",
      "3\n",
      "([2, 9, 3, 8, 4, 8], 4)\n",
      "4\n",
      "([3, 8, 4, 8, 6, 8], 4)\n",
      "[([5, 8, 1, 9, 2, 9], 1), ([1, 9, 2, 9, 3, 8], 1), ([2, 9, 3, 8, 4, 8], 4), ([3, 8, 4, 8, 6, 8], 4)]\n"
     ]
    }
   ],
   "source": [
    "final_result=[]\n",
    "data=[([[1,9], [2,9], [3,8], [4,8]], [1, 1, 4, 4])]\n",
    "form_data = [[start]*window_size+i[0]+[end]*window_size for i in data]\n",
    "#print form_data\n",
    "\n",
    "for sen,lab in enumerate(data):\n",
    "    for index in range(window_size,window_size+len(data[0][1])):\n",
    "        print index\n",
    "        temp=([j for i in form_data[ind][index-1:index+window_size+1] for j in i],data[ind][1][index-window_size])\n",
    "        print temp\n",
    "    \n",
    "        final_result.append(temp)\n",
    "    \n",
    "print final_result"
   ]
  },
  {
   "cell_type": "code",
   "execution_count": 90,
   "metadata": {},
   "outputs": [
    {
     "name": "stdout",
     "output_type": "stream",
     "text": [
      "[[1, 9], [2, 9], [3, 8], [4, 8]]\n",
      "[1, 1, 4, 4]\n"
     ]
    }
   ],
   "source": [
    "for sen,lab in [([[1,9], [2,9], [3,8], [4,8]], [1, 1, 4, 4])]:\n",
    "    print sen\n",
    "    print lab"
   ]
  },
  {
   "cell_type": "code",
   "execution_count": 53,
   "metadata": {},
   "outputs": [
    {
     "data": {
      "text/plain": [
       "[2, 3, 4, 5]"
      ]
     },
     "execution_count": 53,
     "metadata": {},
     "output_type": "execute_result"
    }
   ],
   "source": [
    "window_size=2\n",
    "range(window_size,window_size+len(data[0][1]))"
   ]
  },
  {
   "cell_type": "code",
   "execution_count": 46,
   "metadata": {},
   "outputs": [
    {
     "data": {
      "text/plain": [
       "[2, 3, 4]"
      ]
     },
     "execution_count": 46,
     "metadata": {},
     "output_type": "execute_result"
    }
   ],
   "source": [
    "a[i-1:i+2]"
   ]
  },
  {
   "cell_type": "code",
   "execution_count": 95,
   "metadata": {},
   "outputs": [
    {
     "data": {
      "text/plain": [
       "[[[5, 8], [1, 9], [2, 9], [3, 8], [4, 8], [6, 8]]]"
      ]
     },
     "execution_count": 95,
     "metadata": {},
     "output_type": "execute_result"
    }
   ],
   "source": [
    "data=[([[1,9], [2,9], [3,8], [4,8]], [1, 1, 4, 4])]\n",
    "form_data = [[start]*window_size+i[0]+[end]*window_size for i in data]\n",
    "form_data"
   ]
  },
  {
   "cell_type": "code",
   "execution_count": 110,
   "metadata": {},
   "outputs": [
    {
     "name": "stdout",
     "output_type": "stream",
     "text": [
      "[[1, 9], [2, 9], [3, 8], [4, 8]] [1, 1, 4, 4]\n",
      "[([5, 8, 1, 9, 2, 9], 1), ([1, 9, 2, 9, 3, 8], 1), ([2, 9, 3, 8, 4, 8], 4), ([3, 8, 4, 8, 6, 8], 4)]\n"
     ]
    }
   ],
   "source": [
    "window_size=1\n",
    "windowed_data=[]\n",
    "for sentence, label in data:\n",
    "    print sentence,label\n",
    "    sentence=[start]*window_size+sentence+[end]*window_size\n",
    "    \n",
    "    for index in range(window_size,window_size+len(label)):\n",
    "        windowed_data.append( ([j for i in sentence[index-window_size:index+window_size+1] for j in i]\\\n",
    "                               ,label[index-window_size]))\n",
    "print windowed_data"
   ]
  },
  {
   "cell_type": "code",
   "execution_count": 1,
   "metadata": {},
   "outputs": [],
   "source": [
    "import tensorflow as tf"
   ]
  },
  {
   "cell_type": "code",
   "execution_count": 24,
   "metadata": {},
   "outputs": [
    {
     "name": "stdout",
     "output_type": "stream",
     "text": [
      "[[ 9 12 15]\n",
      " [19 26 33]\n",
      " [29 40 51]]\n",
      "[[10 14 18]\n",
      " [20 28 36]\n",
      " [30 42 54]]\n"
     ]
    }
   ],
   "source": [
    "sess = tf.Session()\n",
    "a=tf.constant([[1,2],[3,4],[5,6]])\n",
    "b=tf.constant([[1,2,3],[4,5,6]])\n",
    "\n",
    "b1=tf.constant([1,2,3])\n",
    "print sess.run(tf.matmul(a,b))\n",
    "print sess.run(tf.matmul(a,b)+b1)\n",
    "\n",
    "# [[0, 0, 0, 0], [0, 0, 0, 0], [0, 0, 0, 0]]\n",
    "\n"
   ]
  },
  {
   "cell_type": "code",
   "execution_count": 15,
   "metadata": {},
   "outputs": [
    {
     "name": "stdout",
     "output_type": "stream",
     "text": [
      "I am decorated\n",
      "I am ordinary\n"
     ]
    }
   ],
   "source": [
    "@ dec\n",
    "def func():\n",
    "    print \"I am ordinary\"\n",
    "    "
   ]
  },
  {
   "cell_type": "code",
   "execution_count": 8,
   "metadata": {},
   "outputs": [],
   "source": [
    "def dec(func):\n",
    "    print \"I am decorated\"\n",
    "    func()\n",
    "    return dec"
   ]
  },
  {
   "cell_type": "code",
   "execution_count": 13,
   "metadata": {},
   "outputs": [
    {
     "name": "stdout",
     "output_type": "stream",
     "text": [
      "I am decorated\n",
      "I am ordinary\n"
     ]
    }
   ],
   "source": [
    "pretty=dec(func)"
   ]
  },
  {
   "cell_type": "code",
   "execution_count": 14,
   "metadata": {},
   "outputs": [
    {
     "data": {
      "text/plain": [
       "function"
      ]
     },
     "execution_count": 14,
     "metadata": {},
     "output_type": "execute_result"
    }
   ],
   "source": []
  },
  {
   "cell_type": "code",
   "execution_count": 21,
   "metadata": {},
   "outputs": [
    {
     "name": "stdout",
     "output_type": "stream",
     "text": [
      "I am decorated\n"
     ]
    },
    {
     "ename": "TypeError",
     "evalue": "divide() takes exactly 2 arguments (0 given)",
     "output_type": "error",
     "traceback": [
      "\u001b[0;31m---------------------------------------------------------------------------\u001b[0m",
      "\u001b[0;31mTypeError\u001b[0m                                 Traceback (most recent call last)",
      "\u001b[0;32m<ipython-input-21-b4f3828a5ae2>\u001b[0m in \u001b[0;36m<module>\u001b[0;34m()\u001b[0m\n\u001b[0;32m----> 1\u001b[0;31m \u001b[0;34m@\u001b[0m \u001b[0mdec\u001b[0m\u001b[0;34m\u001b[0m\u001b[0m\n\u001b[0m\u001b[1;32m      2\u001b[0m \u001b[0;32mdef\u001b[0m \u001b[0mdivide\u001b[0m\u001b[0;34m(\u001b[0m\u001b[0ma\u001b[0m\u001b[0;34m,\u001b[0m\u001b[0mb\u001b[0m\u001b[0;34m)\u001b[0m\u001b[0;34m:\u001b[0m\u001b[0;34m\u001b[0m\u001b[0m\n\u001b[1;32m      3\u001b[0m     \u001b[0;32mreturn\u001b[0m \u001b[0ma\u001b[0m\u001b[0;34m/\u001b[0m\u001b[0mb\u001b[0m\u001b[0;34m\u001b[0m\u001b[0m\n",
      "\u001b[0;32m<ipython-input-8-d72275d14c89>\u001b[0m in \u001b[0;36mdec\u001b[0;34m(func)\u001b[0m\n\u001b[1;32m      1\u001b[0m \u001b[0;32mdef\u001b[0m \u001b[0mdec\u001b[0m\u001b[0;34m(\u001b[0m\u001b[0mfunc\u001b[0m\u001b[0;34m)\u001b[0m\u001b[0;34m:\u001b[0m\u001b[0;34m\u001b[0m\u001b[0m\n\u001b[1;32m      2\u001b[0m     \u001b[0;32mprint\u001b[0m \u001b[0;34m\"I am decorated\"\u001b[0m\u001b[0;34m\u001b[0m\u001b[0m\n\u001b[0;32m----> 3\u001b[0;31m     \u001b[0mfunc\u001b[0m\u001b[0;34m(\u001b[0m\u001b[0;34m)\u001b[0m\u001b[0;34m\u001b[0m\u001b[0m\n\u001b[0m\u001b[1;32m      4\u001b[0m     \u001b[0;32mreturn\u001b[0m \u001b[0mdec\u001b[0m\u001b[0;34m\u001b[0m\u001b[0m\n",
      "\u001b[0;31mTypeError\u001b[0m: divide() takes exactly 2 arguments (0 given)"
     ]
    }
   ],
   "source": [
    "@ dec\n",
    "def divide(a,b):\n",
    "    return a/b"
   ]
  },
  {
   "cell_type": "code",
   "execution_count": 19,
   "metadata": {},
   "outputs": [
    {
     "ename": "ZeroDivisionError",
     "evalue": "integer division or modulo by zero",
     "output_type": "error",
     "traceback": [
      "\u001b[0;31m---------------------------------------------------------------------------\u001b[0m",
      "\u001b[0;31mZeroDivisionError\u001b[0m                         Traceback (most recent call last)",
      "\u001b[0;32m<ipython-input-19-030e2eec799d>\u001b[0m in \u001b[0;36m<module>\u001b[0;34m()\u001b[0m\n\u001b[0;32m----> 1\u001b[0;31m \u001b[0mdivide\u001b[0m\u001b[0;34m(\u001b[0m\u001b[0;36m2\u001b[0m\u001b[0;34m,\u001b[0m\u001b[0;36m0\u001b[0m\u001b[0;34m)\u001b[0m\u001b[0;34m\u001b[0m\u001b[0m\n\u001b[0m",
      "\u001b[0;32m<ipython-input-16-bdcf7ebb454f>\u001b[0m in \u001b[0;36mdivide\u001b[0;34m(a, b)\u001b[0m\n\u001b[1;32m      1\u001b[0m \u001b[0;32mdef\u001b[0m \u001b[0mdivide\u001b[0m\u001b[0;34m(\u001b[0m\u001b[0ma\u001b[0m\u001b[0;34m,\u001b[0m\u001b[0mb\u001b[0m\u001b[0;34m)\u001b[0m\u001b[0;34m:\u001b[0m\u001b[0;34m\u001b[0m\u001b[0m\n\u001b[0;32m----> 2\u001b[0;31m     \u001b[0;32mreturn\u001b[0m \u001b[0ma\u001b[0m\u001b[0;34m/\u001b[0m\u001b[0mb\u001b[0m\u001b[0;34m\u001b[0m\u001b[0m\n\u001b[0m",
      "\u001b[0;31mZeroDivisionError\u001b[0m: integer division or modulo by zero"
     ]
    }
   ],
   "source": [
    "def dec(divide):\n",
    "    if b==0:\n",
    "        print \"divide by zero\"\n",
    "    divide(a,b)"
   ]
  },
  {
   "cell_type": "code",
   "execution_count": 1,
   "metadata": {},
   "outputs": [],
   "source": [
    "data=[([2650, 2649, 92, 2647, 1206, 2649], 1), ([92, 2647, 1206, 2649, 123, 2648], 4), ([1206, 2649, 123, 2648, 291, 2649], 3), ([123, 2648, 291, 2649, 7, 2649], 4), ([291, 2649, 7, 2649, 1941, 2649], 4), ([7, 2649, 1941, 2649, 81, 2648], 4), ([1941, 2649, 81, 2648, 546, 2649], 3), ([81, 2648, 546, 2649, 1, 2646], 4), ([546, 2649, 1, 2646, 2651, 2649], 4), ([2650, 2649, 2591, 2648, 206, 2648], 0)]"
   ]
  },
  {
   "cell_type": "code",
   "execution_count": 18,
   "metadata": {},
   "outputs": [
    {
     "data": {
      "text/plain": [
       "[([2650, 2649, 92, 2647, 1206, 2649],\n",
       "  [92, 2647, 1206, 2649, 123, 2648],\n",
       "  [1206, 2649, 123, 2648, 291, 2649],\n",
       "  [123, 2648, 291, 2649, 7, 2649],\n",
       "  [291, 2649, 7, 2649, 1941, 2649],\n",
       "  [7, 2649, 1941, 2649, 81, 2648],\n",
       "  [1941, 2649, 81, 2648, 546, 2649],\n",
       "  [81, 2648, 546, 2649, 1, 2646],\n",
       "  [546, 2649, 1, 2646, 2651, 2649],\n",
       "  [2650, 2649, 2591, 2648, 206, 2648]),\n",
       " (1, 4, 3, 4, 4, 4, 3, 4, 4, 0)]"
      ]
     },
     "execution_count": 18,
     "metadata": {},
     "output_type": "execute_result"
    }
   ],
   "source": [
    "zip(*data)"
   ]
  },
  {
   "cell_type": "code",
   "execution_count": 13,
   "metadata": {},
   "outputs": [
    {
     "data": {
      "text/plain": [
       "[array([[2650, 2649,   92, 2647, 1206, 2649],\n",
       "        [  92, 2647, 1206, 2649,  123, 2648],\n",
       "        [1206, 2649,  123, 2648,  291, 2649],\n",
       "        [ 123, 2648,  291, 2649,    7, 2649],\n",
       "        [ 291, 2649,    7, 2649, 1941, 2649],\n",
       "        [   7, 2649, 1941, 2649,   81, 2648],\n",
       "        [1941, 2649,   81, 2648,  546, 2649],\n",
       "        [  81, 2648,  546, 2649,    1, 2646],\n",
       "        [ 546, 2649,    1, 2646, 2651, 2649],\n",
       "        [2650, 2649, 2591, 2648,  206, 2648]]),\n",
       " array([1, 4, 3, 4, 4, 4, 3, 4, 4, 0])]"
      ]
     },
     "execution_count": 13,
     "metadata": {},
     "output_type": "execute_result"
    }
   ],
   "source": [
    "import numpy as np\n",
    "batches = [np.array(col) for col in zip(*data)]\n",
    "batches"
   ]
  },
  {
   "cell_type": "code",
   "execution_count": 24,
   "metadata": {},
   "outputs": [
    {
     "name": "stdout",
     "output_type": "stream",
     "text": [
      "[0 1 2 3 4 5 6 7 8 9]\n"
     ]
    }
   ],
   "source": [
    "data=batches\n",
    "list_data=type(data) is list and (type(data[0]) is list or type(data[0]) is np.ndarray)\n",
    "data_size=len(data[0]) if list_data else len(data)\n",
    "indices = np.arange(data_size)\n",
    "print indices"
   ]
  },
  {
   "cell_type": "code",
   "execution_count": 28,
   "metadata": {},
   "outputs": [
    {
     "data": {
      "text/plain": [
       "array([0, 1])"
      ]
     },
     "execution_count": 28,
     "metadata": {},
     "output_type": "execute_result"
    }
   ],
   "source": [
    "minibatch_start=np.arange(0, data_size, 2)[0]\n",
    "indices[minibatch_start:minibatch_start + 2]"
   ]
  },
  {
   "cell_type": "code",
   "execution_count": 31,
   "metadata": {},
   "outputs": [
    {
     "data": {
      "text/plain": [
       "numpy.ndarray"
      ]
     },
     "execution_count": 31,
     "metadata": {},
     "output_type": "execute_result"
    }
   ],
   "source": [
    "type(data[0])"
   ]
  },
  {
   "cell_type": "code",
   "execution_count": 32,
   "metadata": {},
   "outputs": [
    {
     "data": {
      "text/plain": [
       "array([[2650, 2649,   92, 2647, 1206, 2649],\n",
       "       [  92, 2647, 1206, 2649,  123, 2648]])"
      ]
     },
     "execution_count": 32,
     "metadata": {},
     "output_type": "execute_result"
    }
   ],
   "source": [
    "data[0][indices[minibatch_start:minibatch_start + 2]]"
   ]
  },
  {
   "cell_type": "code",
   "execution_count": 28,
   "metadata": {},
   "outputs": [],
   "source": [
    "import numpy as np\n",
    "def test():\n",
    "    for i in np.arange(0, 10, 2):\n",
    "       yield i"
   ]
  },
  {
   "cell_type": "code",
   "execution_count": 29,
   "metadata": {},
   "outputs": [],
   "source": [
    "x=test()"
   ]
  },
  {
   "cell_type": "code",
   "execution_count": 26,
   "metadata": {},
   "outputs": [
    {
     "data": {
      "text/plain": [
       "0"
      ]
     },
     "execution_count": 26,
     "metadata": {},
     "output_type": "execute_result"
    }
   ],
   "source": []
  },
  {
   "cell_type": "code",
   "execution_count": 12,
   "metadata": {},
   "outputs": [],
   "source": [
    "import tensorflow as tf\n",
    "labels=tf.constant(1., shape=(2,))\n",
    "logits=tf.constant(1., shape=(50,2))\n",
    "    labels = labels + tf.zeros_like(logits)\n"
   ]
  },
  {
   "cell_type": "code",
   "execution_count": 8,
   "metadata": {},
   "outputs": [
    {
     "data": {
      "text/plain": [
       "array([1.3862944, 1.3862944, 1.3862944, 1.3862944, 1.3862944, 1.3862944,\n",
       "       1.3862944, 1.3862944, 1.3862944, 1.3862944, 1.3862944, 1.3862944,\n",
       "       1.3862944, 1.3862944, 1.3862944, 1.3862944, 1.3862944, 1.3862944,\n",
       "       1.3862944, 1.3862944, 1.3862944, 1.3862944, 1.3862944, 1.3862944,\n",
       "       1.3862944, 1.3862944, 1.3862944, 1.3862944, 1.3862944, 1.3862944,\n",
       "       1.3862944, 1.3862944, 1.3862944, 1.3862944, 1.3862944, 1.3862944,\n",
       "       1.3862944, 1.3862944, 1.3862944, 1.3862944, 1.3862944, 1.3862944,\n",
       "       1.3862944, 1.3862944, 1.3862944, 1.3862944, 1.3862944, 1.3862944,\n",
       "       1.3862944, 1.3862944], dtype=float32)"
      ]
     },
     "execution_count": 8,
     "metadata": {},
     "output_type": "execute_result"
    }
   ],
   "source": [
    "tf.Session().run(tf.nn.softmax_cross_entropy_with_logits(labels=labels, logits=logits))"
   ]
  },
  {
   "cell_type": "code",
   "execution_count": 13,
   "metadata": {},
   "outputs": [
    {
     "data": {
      "text/plain": [
       "array([[1., 1.],\n",
       "       [1., 1.],\n",
       "       [1., 1.],\n",
       "       [1., 1.],\n",
       "       [1., 1.],\n",
       "       [1., 1.],\n",
       "       [1., 1.],\n",
       "       [1., 1.],\n",
       "       [1., 1.],\n",
       "       [1., 1.],\n",
       "       [1., 1.],\n",
       "       [1., 1.],\n",
       "       [1., 1.],\n",
       "       [1., 1.],\n",
       "       [1., 1.],\n",
       "       [1., 1.],\n",
       "       [1., 1.],\n",
       "       [1., 1.],\n",
       "       [1., 1.],\n",
       "       [1., 1.],\n",
       "       [1., 1.],\n",
       "       [1., 1.],\n",
       "       [1., 1.],\n",
       "       [1., 1.],\n",
       "       [1., 1.],\n",
       "       [1., 1.],\n",
       "       [1., 1.],\n",
       "       [1., 1.],\n",
       "       [1., 1.],\n",
       "       [1., 1.],\n",
       "       [1., 1.],\n",
       "       [1., 1.],\n",
       "       [1., 1.],\n",
       "       [1., 1.],\n",
       "       [1., 1.],\n",
       "       [1., 1.],\n",
       "       [1., 1.],\n",
       "       [1., 1.],\n",
       "       [1., 1.],\n",
       "       [1., 1.],\n",
       "       [1., 1.],\n",
       "       [1., 1.],\n",
       "       [1., 1.],\n",
       "       [1., 1.],\n",
       "       [1., 1.],\n",
       "       [1., 1.],\n",
       "       [1., 1.],\n",
       "       [1., 1.],\n",
       "       [1., 1.],\n",
       "       [1., 1.]], dtype=float32)"
      ]
     },
     "execution_count": 13,
     "metadata": {},
     "output_type": "execute_result"
    }
   ],
   "source": [
    "tf.Session().run(labels)"
   ]
  },
  {
   "cell_type": "code",
   "execution_count": null,
   "metadata": {},
   "outputs": [],
   "source": []
  }
 ],
 "metadata": {
  "kernelspec": {
   "display_name": "Python 2",
   "language": "python",
   "name": "python2"
  },
  "language_info": {
   "codemirror_mode": {
    "name": "ipython",
    "version": 2
   },
   "file_extension": ".py",
   "mimetype": "text/x-python",
   "name": "python",
   "nbconvert_exporter": "python",
   "pygments_lexer": "ipython2",
   "version": "2.7.12"
  }
 },
 "nbformat": 4,
 "nbformat_minor": 2
}
